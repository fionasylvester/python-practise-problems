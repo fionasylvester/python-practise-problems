{
  "nbformat": 4,
  "nbformat_minor": 0,
  "metadata": {
    "colab": {
      "name": "Day3_answers.ipynb",
      "provenance": [],
      "collapsed_sections": []
    },
    "kernelspec": {
      "name": "python3",
      "display_name": "Python 3"
    },
    "language_info": {
      "name": "python"
    }
  },
  "cells": [
    {
      "cell_type": "code",
      "metadata": {
        "colab": {
          "base_uri": "https://localhost:8080/"
        },
        "id": "Y7v5gllM_Qum",
        "outputId": "9d387db8-3a08-4f4e-c796-57674aa04857"
      },
      "source": [
        "dir(str)"
      ],
      "execution_count": 1,
      "outputs": [
        {
          "output_type": "execute_result",
          "data": {
            "text/plain": [
              "['__add__',\n",
              " '__class__',\n",
              " '__contains__',\n",
              " '__delattr__',\n",
              " '__dir__',\n",
              " '__doc__',\n",
              " '__eq__',\n",
              " '__format__',\n",
              " '__ge__',\n",
              " '__getattribute__',\n",
              " '__getitem__',\n",
              " '__getnewargs__',\n",
              " '__gt__',\n",
              " '__hash__',\n",
              " '__init__',\n",
              " '__init_subclass__',\n",
              " '__iter__',\n",
              " '__le__',\n",
              " '__len__',\n",
              " '__lt__',\n",
              " '__mod__',\n",
              " '__mul__',\n",
              " '__ne__',\n",
              " '__new__',\n",
              " '__reduce__',\n",
              " '__reduce_ex__',\n",
              " '__repr__',\n",
              " '__rmod__',\n",
              " '__rmul__',\n",
              " '__setattr__',\n",
              " '__sizeof__',\n",
              " '__str__',\n",
              " '__subclasshook__',\n",
              " 'capitalize',\n",
              " 'casefold',\n",
              " 'center',\n",
              " 'count',\n",
              " 'encode',\n",
              " 'endswith',\n",
              " 'expandtabs',\n",
              " 'find',\n",
              " 'format',\n",
              " 'format_map',\n",
              " 'index',\n",
              " 'isalnum',\n",
              " 'isalpha',\n",
              " 'isascii',\n",
              " 'isdecimal',\n",
              " 'isdigit',\n",
              " 'isidentifier',\n",
              " 'islower',\n",
              " 'isnumeric',\n",
              " 'isprintable',\n",
              " 'isspace',\n",
              " 'istitle',\n",
              " 'isupper',\n",
              " 'join',\n",
              " 'ljust',\n",
              " 'lower',\n",
              " 'lstrip',\n",
              " 'maketrans',\n",
              " 'partition',\n",
              " 'replace',\n",
              " 'rfind',\n",
              " 'rindex',\n",
              " 'rjust',\n",
              " 'rpartition',\n",
              " 'rsplit',\n",
              " 'rstrip',\n",
              " 'split',\n",
              " 'splitlines',\n",
              " 'startswith',\n",
              " 'strip',\n",
              " 'swapcase',\n",
              " 'title',\n",
              " 'translate',\n",
              " 'upper',\n",
              " 'zfill']"
            ]
          },
          "metadata": {},
          "execution_count": 1
        }
      ]
    },
    {
      "cell_type": "code",
      "metadata": {
        "colab": {
          "base_uri": "https://localhost:8080/"
        },
        "id": "TrufwIXz_haB",
        "outputId": "54c1ee7a-1364-424f-f1bc-f4bb6461b192"
      },
      "source": [
        "string = \"   to err is human , to fORgive is divine   \"\n",
        "print(string.upper())   #all lower case\n",
        "print(string.lower())   #all upper case\n",
        "print(string.title())   #all first letter capitals\n",
        "print(string.strip())   #removes extra whitespace\n",
        "print(string.swapcase())#swaps case\n",
        "print(string.lstrip())  #left side whitespace\n",
        "print(string.rstrip())  #rightside whitespace\n",
        "print(string.split())   #splits to list\n",
        "print(string.startswith(\"to\"))   # return true or false for the argument passed\n",
        "print(string.zfill(50)) #adds 0 to the string till it reaches the integer value\n",
        "print(string.center(50))# center the string\n",
        "print(string.replace(\"human\",\"alien\"))   #replaces the first argument with second\n",
        "print(string.join(\"#\"))\n",
        "print(string.capitalize())\n",
        "print(string.count(\"err\"))\n",
        "print(string.translate(\"err\"))\n",
        "print(string.partition(\"err\"))\n",
        "print(string.find(\"err\"))\n",
        "print(string.index(\"err\"))"
      ],
      "execution_count": 8,
      "outputs": [
        {
          "output_type": "stream",
          "name": "stdout",
          "text": [
            "   TO ERR IS HUMAN , TO FORGIVE IS DIVINE   \n",
            "   to err is human , to forgive is divine   \n",
            "   To Err Is Human , To Forgive Is Divine   \n",
            "to err is human , to fORgive is divine\n",
            "   TO ERR IS HUMAN , TO ForGIVE IS DIVINE   \n",
            "to err is human , to fORgive is divine   \n",
            "   to err is human , to fORgive is divine\n",
            "['to', 'err', 'is', 'human', ',', 'to', 'fORgive', 'is', 'divine']\n",
            "False\n",
            "000000   to err is human , to fORgive is divine   \n",
            "      to err is human , to fORgive is divine      \n",
            "   to err is alien , to fORgive is divine   \n",
            "#\n",
            "   to err is human , to forgive is divine   \n",
            "1\n",
            "   to err is human , to fORgive is divine   \n",
            "('   to ', 'err', ' is human , to fORgive is divine   ')\n",
            "6\n",
            "6\n"
          ]
        }
      ]
    },
    {
      "cell_type": "code",
      "metadata": {
        "colab": {
          "base_uri": "https://localhost:8080/"
        },
        "id": "dngwXLp1ANMa",
        "outputId": "ee9ceb7d-cdc2-41c0-bb3a-aa0343f73fea"
      },
      "source": [
        "dir(list)"
      ],
      "execution_count": 17,
      "outputs": [
        {
          "output_type": "execute_result",
          "data": {
            "text/plain": [
              "['__add__',\n",
              " '__class__',\n",
              " '__contains__',\n",
              " '__delattr__',\n",
              " '__delitem__',\n",
              " '__dir__',\n",
              " '__doc__',\n",
              " '__eq__',\n",
              " '__format__',\n",
              " '__ge__',\n",
              " '__getattribute__',\n",
              " '__getitem__',\n",
              " '__gt__',\n",
              " '__hash__',\n",
              " '__iadd__',\n",
              " '__imul__',\n",
              " '__init__',\n",
              " '__init_subclass__',\n",
              " '__iter__',\n",
              " '__le__',\n",
              " '__len__',\n",
              " '__lt__',\n",
              " '__mul__',\n",
              " '__ne__',\n",
              " '__new__',\n",
              " '__reduce__',\n",
              " '__reduce_ex__',\n",
              " '__repr__',\n",
              " '__reversed__',\n",
              " '__rmul__',\n",
              " '__setattr__',\n",
              " '__setitem__',\n",
              " '__sizeof__',\n",
              " '__str__',\n",
              " '__subclasshook__',\n",
              " 'append',\n",
              " 'clear',\n",
              " 'copy',\n",
              " 'count',\n",
              " 'extend',\n",
              " 'index',\n",
              " 'insert',\n",
              " 'pop',\n",
              " 'remove',\n",
              " 'reverse',\n",
              " 'sort']"
            ]
          },
          "metadata": {},
          "execution_count": 17
        }
      ]
    },
    {
      "cell_type": "code",
      "metadata": {
        "colab": {
          "base_uri": "https://localhost:8080/"
        },
        "id": "1TqfNzCQAhIB",
        "outputId": "85455c63-4994-4e15-d940-23ead25749c4"
      },
      "source": [
        "list1=[\"to\",\"err\",\"is\",\"human\"]\n",
        "\n",
        "list1.append(\"err\")\n",
        "print(list1)\n",
        "\n",
        "b=list1.count(\"err\")\n",
        "print(b)\n",
        "\n",
        "list1.extend([\"heloo hi\"])\n",
        "print(list1)\n",
        "\n",
        "list1.insert(2,\"hello\")\n",
        "print(list1)\n",
        "\n",
        "c= list1.copy()\n",
        "print(c)\n",
        "\n",
        "list1.reverse()\n",
        "print(list1)\n",
        "\n",
        "list1.sort(reverse=True)\n",
        "print(list1)\n",
        "\n",
        "list1.pop(1)\n",
        "print(list1)\n",
        "\n",
        "list1.sort()\n",
        "print(list1)\n",
        "\n",
        "list1.remove(\"human\")\n",
        "print(list1)\n",
        "\n",
        "c=list1.index(\"to\")\n",
        "print(c)\n",
        "\n",
        "list1.clear()\n"
      ],
      "execution_count": 68,
      "outputs": [
        {
          "output_type": "stream",
          "name": "stdout",
          "text": [
            "['to', 'err', 'is', 'human', 'err']\n",
            "2\n",
            "['to', 'err', 'is', 'human', 'err', 'heloo hi']\n",
            "['to', 'err', 'hello', 'is', 'human', 'err', 'heloo hi']\n",
            "['to', 'err', 'hello', 'is', 'human', 'err', 'heloo hi']\n",
            "['heloo hi', 'err', 'human', 'is', 'hello', 'err', 'to']\n",
            "['to', 'is', 'human', 'heloo hi', 'hello', 'err', 'err']\n",
            "['to', 'human', 'heloo hi', 'hello', 'err', 'err']\n",
            "['err', 'err', 'hello', 'heloo hi', 'human', 'to']\n",
            "['err', 'err', 'hello', 'heloo hi', 'to']\n",
            "4\n"
          ]
        }
      ]
    },
    {
      "cell_type": "code",
      "metadata": {
        "id": "XiL5lw6DEl3d",
        "outputId": "5fa0af16-9073-445e-a680-bb14e899ccc4",
        "colab": {
          "base_uri": "https://localhost:8080/"
        }
      },
      "source": [
        "dir(tuple)"
      ],
      "execution_count": 48,
      "outputs": [
        {
          "output_type": "execute_result",
          "data": {
            "text/plain": [
              "['__add__',\n",
              " '__class__',\n",
              " '__contains__',\n",
              " '__delattr__',\n",
              " '__dir__',\n",
              " '__doc__',\n",
              " '__eq__',\n",
              " '__format__',\n",
              " '__ge__',\n",
              " '__getattribute__',\n",
              " '__getitem__',\n",
              " '__getnewargs__',\n",
              " '__gt__',\n",
              " '__hash__',\n",
              " '__init__',\n",
              " '__init_subclass__',\n",
              " '__iter__',\n",
              " '__le__',\n",
              " '__len__',\n",
              " '__lt__',\n",
              " '__mul__',\n",
              " '__ne__',\n",
              " '__new__',\n",
              " '__reduce__',\n",
              " '__reduce_ex__',\n",
              " '__repr__',\n",
              " '__rmul__',\n",
              " '__setattr__',\n",
              " '__sizeof__',\n",
              " '__str__',\n",
              " '__subclasshook__',\n",
              " 'count',\n",
              " 'index']"
            ]
          },
          "metadata": {},
          "execution_count": 48
        }
      ]
    },
    {
      "cell_type": "code",
      "metadata": {
        "id": "Yo1s6XZKGM0m",
        "outputId": "8ea2526b-cbaf-4ea4-b3b3-293ddbc893de",
        "colab": {
          "base_uri": "https://localhost:8080/"
        }
      },
      "source": [
        "tuplee = (1,2,3,\"a\",\"b\",\"c\",\"hi\",\"hello\",\"vanakam\")\n",
        "\n",
        "c = tuplee.count(\"hello\")\n",
        "print(c)\n",
        "\n",
        "b = tuplee.index(\"a\")\n",
        "print(b)\n",
        "\n",
        "print(len(tuplee))\n",
        "\n",
        "import copy\n",
        "copytuple= copy.copy(tuplee)\n",
        "print(copytuple)\n",
        "\n",
        "multuple= 3*tuplee\n",
        "print(multuple)\n",
        "\n",
        "tup=(34,5,9)\n",
        "addtup = tup+tuplee\n",
        "print(addtup)"
      ],
      "execution_count": 11,
      "outputs": [
        {
          "output_type": "stream",
          "name": "stdout",
          "text": [
            "1\n",
            "3\n",
            "9\n",
            "(1, 2, 3, 'a', 'b', 'c', 'hi', 'hello', 'vanakam')\n",
            "(1, 2, 3, 'a', 'b', 'c', 'hi', 'hello', 'vanakam', 1, 2, 3, 'a', 'b', 'c', 'hi', 'hello', 'vanakam', 1, 2, 3, 'a', 'b', 'c', 'hi', 'hello', 'vanakam')\n",
            "(34, 5, 9, 1, 2, 3, 'a', 'b', 'c', 'hi', 'hello', 'vanakam')\n"
          ]
        }
      ]
    },
    {
      "cell_type": "code",
      "metadata": {
        "id": "I0vxBy9K5lp2",
        "outputId": "5edfed63-8a69-4299-e3f3-f6dec688d6f1",
        "colab": {
          "base_uri": "https://localhost:8080/"
        }
      },
      "source": [
        "dir(set)"
      ],
      "execution_count": 12,
      "outputs": [
        {
          "output_type": "execute_result",
          "data": {
            "text/plain": [
              "['__and__',\n",
              " '__class__',\n",
              " '__contains__',\n",
              " '__delattr__',\n",
              " '__dir__',\n",
              " '__doc__',\n",
              " '__eq__',\n",
              " '__format__',\n",
              " '__ge__',\n",
              " '__getattribute__',\n",
              " '__gt__',\n",
              " '__hash__',\n",
              " '__iand__',\n",
              " '__init__',\n",
              " '__init_subclass__',\n",
              " '__ior__',\n",
              " '__isub__',\n",
              " '__iter__',\n",
              " '__ixor__',\n",
              " '__le__',\n",
              " '__len__',\n",
              " '__lt__',\n",
              " '__ne__',\n",
              " '__new__',\n",
              " '__or__',\n",
              " '__rand__',\n",
              " '__reduce__',\n",
              " '__reduce_ex__',\n",
              " '__repr__',\n",
              " '__ror__',\n",
              " '__rsub__',\n",
              " '__rxor__',\n",
              " '__setattr__',\n",
              " '__sizeof__',\n",
              " '__str__',\n",
              " '__sub__',\n",
              " '__subclasshook__',\n",
              " '__xor__',\n",
              " 'add',\n",
              " 'clear',\n",
              " 'copy',\n",
              " 'difference',\n",
              " 'difference_update',\n",
              " 'discard',\n",
              " 'intersection',\n",
              " 'intersection_update',\n",
              " 'isdisjoint',\n",
              " 'issubset',\n",
              " 'issuperset',\n",
              " 'pop',\n",
              " 'remove',\n",
              " 'symmetric_difference',\n",
              " 'symmetric_difference_update',\n",
              " 'union',\n",
              " 'update']"
            ]
          },
          "metadata": {},
          "execution_count": 12
        }
      ]
    },
    {
      "cell_type": "code",
      "metadata": {
        "id": "F3F6RWke5xpp",
        "outputId": "af0c006e-5a03-4421-ab57-c1e0da49e50d",
        "colab": {
          "base_uri": "https://localhost:8080/"
        }
      },
      "source": [
        "thisset= {1,2,3,False, \"hello\",\"world\",True}\n",
        "\n",
        "print(thisset)\n",
        "\n",
        "print(len(thisset))\n",
        "print(type(thisset))\n",
        "\n",
        "thisset.add(\"vanakam\")\n",
        "print(thisset)\n",
        "\n",
        "anotherset={\"sayonara\",\"goodbye\"}\n",
        "thisset.update(anotherset)\n",
        "print(thisset)\n",
        "\n",
        "anotherset.remove(\"sayonara\")\n",
        "print(anotherset)\n",
        "\n",
        "set1= thisset.union(anotherset)\n",
        "print(set1)\n",
        "\n",
        "set2= thisset.intersection(anotherset)\n",
        "print(set2)\n",
        "\n",
        "set4= copy.copy(set1)\n",
        "print(set4)"
      ],
      "execution_count": 22,
      "outputs": [
        {
          "output_type": "stream",
          "name": "stdout",
          "text": [
            "{False, 1, 2, 3, 'hello', 'world'}\n",
            "6\n",
            "<class 'set'>\n",
            "{False, 1, 2, 3, 'vanakam', 'hello', 'world'}\n",
            "{False, 1, 2, 3, 'sayonara', 'vanakam', 'goodbye', 'hello', 'world'}\n",
            "{'goodbye'}\n",
            "{False, 1, 2, 3, 'sayonara', 'vanakam', 'goodbye', 'hello', 'world'}\n",
            "{'goodbye'}\n",
            "{False, 1, 2, 3, 'sayonara', 'vanakam', 'goodbye', 'hello', 'world'}\n"
          ]
        }
      ]
    },
    {
      "cell_type": "code",
      "metadata": {
        "id": "O7caRrCTOwLM",
        "outputId": "7a8ec4ec-cad3-4cb9-f7ec-314f5c1f376e",
        "colab": {
          "base_uri": "https://localhost:8080/"
        }
      },
      "source": [
        "dir(dict)"
      ],
      "execution_count": 24,
      "outputs": [
        {
          "output_type": "execute_result",
          "data": {
            "text/plain": [
              "['__class__',\n",
              " '__contains__',\n",
              " '__delattr__',\n",
              " '__delitem__',\n",
              " '__dir__',\n",
              " '__doc__',\n",
              " '__eq__',\n",
              " '__format__',\n",
              " '__ge__',\n",
              " '__getattribute__',\n",
              " '__getitem__',\n",
              " '__gt__',\n",
              " '__hash__',\n",
              " '__init__',\n",
              " '__init_subclass__',\n",
              " '__iter__',\n",
              " '__le__',\n",
              " '__len__',\n",
              " '__lt__',\n",
              " '__ne__',\n",
              " '__new__',\n",
              " '__reduce__',\n",
              " '__reduce_ex__',\n",
              " '__repr__',\n",
              " '__setattr__',\n",
              " '__setitem__',\n",
              " '__sizeof__',\n",
              " '__str__',\n",
              " '__subclasshook__',\n",
              " 'clear',\n",
              " 'copy',\n",
              " 'fromkeys',\n",
              " 'get',\n",
              " 'items',\n",
              " 'keys',\n",
              " 'pop',\n",
              " 'popitem',\n",
              " 'setdefault',\n",
              " 'update',\n",
              " 'values']"
            ]
          },
          "metadata": {},
          "execution_count": 24
        }
      ]
    },
    {
      "cell_type": "code",
      "metadata": {
        "id": "m7r1PHjozosQ",
        "outputId": "1f42d3c1-f859-46f3-e846-51d50f69d47f",
        "colab": {
          "base_uri": "https://localhost:8080/"
        }
      },
      "source": [
        "thisdict= {\n",
        "    \"name\": \"shakespeare\",\n",
        "    \"book\": \"hamlet\",\n",
        "    \"year\":  1790\n",
        "}\n",
        "print(thisdict)\n",
        "\n",
        "print(thisdict[\"book\"])\n",
        "print(thisdict.get(\"book\"))\n",
        "print(thisdict.keys())\n",
        "print(thisdict.values())\n",
        "\n",
        "thisdict[\"name\"] = \"hosseini\"\n",
        "thisdict[\"age\"]= 43\n",
        "print(thisdict)\n",
        "\n",
        "thisdict.pop(\"name\")\n",
        "print(thisdict)\n",
        "\n",
        "thisdict.popitem()\n",
        "print(thisdict)\n",
        "\n",
        "nesteddict = {\n",
        "    \"person1\":{\n",
        "        \"name\":\"fiona\",\n",
        "        \"place\":\"mangalore\"\n",
        "    },\n",
        "    \"person2\":{\n",
        "        \"name\": \"abhijna\",\n",
        "        \"place\": \"france\"\n",
        "    }\n",
        "}\n",
        "\n",
        "print(nesteddict)"
      ],
      "execution_count": 14,
      "outputs": [
        {
          "output_type": "stream",
          "name": "stdout",
          "text": [
            "{'name': 'shakespeare', 'book': 'hamlet', 'year': 1790}\n",
            "hamlet\n",
            "hamlet\n",
            "dict_keys(['name', 'book', 'year'])\n",
            "dict_values(['shakespeare', 'hamlet', 1790])\n",
            "{'name': 'hosseini', 'book': 'hamlet', 'year': 1790, 'age': 43}\n",
            "{'book': 'hamlet', 'year': 1790, 'age': 43}\n",
            "{'book': 'hamlet', 'year': 1790}\n",
            "{'person1': {'name': 'fiona', 'place': 'mangalore'}, 'person2': {'name': 'abhijna', 'place': 'france'}}\n"
          ]
        }
      ]
    }
  ]
}